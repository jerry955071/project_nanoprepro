{
 "cells": [
  {
   "cell_type": "code",
   "execution_count": 2,
   "id": "1b5419c2",
   "metadata": {},
   "outputs": [],
   "source": [
    "from types import SimpleNamespace\n",
    "import matplotlib.pyplot as plt\n",
    "import seaborn as sns\n",
    "from pathlib import Path\n",
    "import numpy as np\n",
    "import pandas as pd\n",
    "import json, os, pysam, math\n",
    "\n",
    "# paths\n",
    "path_workdir = Path(\"/home/b05b01002/HDD/project_nanoprep_re\")\n",
    "path_output = Path(\"./output\")\n",
    "os.makedirs(path_output, exist_ok=True)"
   ]
  },
  {
   "cell_type": "code",
   "execution_count": 3,
   "id": "1a0a0e84",
   "metadata": {},
   "outputs": [],
   "source": [
    "# NanoPrePro/Pychopper full-length read file name template\n",
    "path_fastq = lambda wildcards: \\\n",
    "    path_workdir / f\"outputs/{wildcards.pretty_name}/mprof_{wildcards.software}/{wildcards.beta_or_backend}/{wildcards.name}_{wildcards.accuracy}/full-length.fq\"\n",
    "\n",
    "# wildcards\n",
    "names_accuracies = {\n",
    "    \"egr-109-bio1\": [\"sup\", \"hac\", \"fast\"],\n",
    "    \"egr-109-bio2\": [\"sup\", \"hac\", \"fast\"],\n",
    "    \"lch-109-bio1\": [\"sup\", \"hac\", \"fast\"],\n",
    "    \"lch-109-bio2\": [\"sup\", \"hac\", \"fast\"],\n",
    "    \"ptr-109-bio1\": [\"sup\", \"hac\", \"fast\"],\n",
    "    \"ptr-109-bio2\": [\"sup\", \"hac\", \"fast\"],\n",
    "    \"ptr-111-bio1\": [\"sup\", \"hac\", \"fast\"],\n",
    "    \"ont-10x-human\": [\"sup\", \"hac\", \"fast\"],\n",
    "    \"ont-visium-mouse\": [\"sup\", \"hac\", \"fast\"],\n",
    "    \"mouse-retina-subset1\": [\"pre-called\"],\n",
    "    \"mouse-retina-subset2\": [\"pre-called\"]\n",
    "}\n",
    "accuracies = [\n",
    "    \"sup\",\n",
    "    \"hac\",\n",
    "    \"fast\",\n",
    "    \"pre-called\"\n",
    "]\n",
    "betas = [f\"beta{i}\" for i in [\"0.1\", \"0.2\", \"0.3\", \"0.4\", \"0.5\", \"0.6\", \"0.7\", \"0.8\", \"0.9\", \"1.0\", \"1.5\", \"2.0\"]]\n",
    "backends = [\"phmm\", \"edlib\"]\n",
    "softwares = [\"pychopper\", \"nanoprep\"]\n",
    "pretty_names = {\n",
    "    \"pychopper\": \"Pychopper\",\n",
    "    \"nanoprep\": \"NanoPreP\"\n",
    "}"
   ]
  },
  {
   "cell_type": "markdown",
   "id": "f664e8e6",
   "metadata": {},
   "source": [
    "Pychopper/NanoPreP processed read length"
   ]
  },
  {
   "cell_type": "code",
   "execution_count": 4,
   "id": "ff450f7d",
   "metadata": {},
   "outputs": [],
   "source": [
    "data = pd.DataFrame()\n",
    "for name, accuracies in names_accuracies.items():\n",
    "    for accuracy in accuracies:\n",
    "        for software in softwares:\n",
    "            if (accuracy == \"pre-called\") & (software == \"pychopper\"):\n",
    "                continue\n",
    "            beta_or_backends = {\n",
    "                \"nanoprep\": betas,\n",
    "                \"pychopper\": backends\n",
    "            }[software]\n",
    "            clean_name = {\n",
    "                \"pychopper\": lambda x: x.split(\"|\")[-1],\n",
    "                \"nanoprep\": lambda x: x\n",
    "            }[software]\n",
    "            for beta_or_backend in beta_or_backends:\n",
    "                wildcards = SimpleNamespace(\n",
    "                    pretty_name=pretty_names[software],\n",
    "                    software=software,\n",
    "                    beta_or_backend=beta_or_backend,\n",
    "                    name=name,\n",
    "                    accuracy=accuracy\n",
    "                )\n",
    "                fname = path_fastq(wildcards)\n",
    "                with pysam.FastxFile(fname) as handle:\n",
    "                    name_len = [[clean_name(i.name), len(i.sequence)] for i in handle]\n",
    "                data_tmp = pd.DataFrame(name_len)\n",
    "                data_tmp.columns = [\"read_name\", \"length\"]\n",
    "                data_tmp[\"software\"] = software\n",
    "                data_tmp[\"beta_or_backend\"] = beta_or_backend\n",
    "                data_tmp[\"name\"] = name\n",
    "                data_tmp[\"accuracy\"] = accuracy if not accuracy == \"pre-called\" else \"sup\"\n",
    "                data = pd.concat([data, data_tmp])"
   ]
  },
  {
   "cell_type": "code",
   "execution_count": null,
   "id": "efb07c55",
   "metadata": {},
   "outputs": [],
   "source": [
    "data.to_csv(\"processed_length.csv\", index=False)"
   ]
  },
  {
   "cell_type": "markdown",
   "id": "b1d18ef7",
   "metadata": {},
   "source": [
    "Raw read length"
   ]
  },
  {
   "cell_type": "code",
   "execution_count": null,
   "id": "b7b06c6a",
   "metadata": {},
   "outputs": [],
   "source": [
    "# raw read file name template\n",
    "path_fastq = lambda wildcards: \\\n",
    "    path_workdir / f\"outputs/Basecalling/aggregate_fastq/{wildcards.name}_{wildcards.accuracy}.fq\"\n",
    "\n",
    "# wildcards\n",
    "names_accuracies = {\n",
    "    \"egr-109-bio1\": [\"sup\", \"hac\", \"fast\"],\n",
    "    \"egr-109-bio2\": [\"sup\", \"hac\", \"fast\"],\n",
    "    \"lch-109-bio1\": [\"sup\", \"hac\", \"fast\"],\n",
    "    \"lch-109-bio2\": [\"sup\", \"hac\", \"fast\"],\n",
    "    \"ptr-109-bio1\": [\"sup\", \"hac\", \"fast\"],\n",
    "    \"ptr-109-bio2\": [\"sup\", \"hac\", \"fast\"],\n",
    "    \"ptr-111-bio1\": [\"sup\", \"hac\", \"fast\"],\n",
    "    \"ont-10x-human\": [\"sup\", \"hac\", \"fast\"],\n",
    "    \"ont-visium-mouse\": [\"sup\", \"hac\", \"fast\"],\n",
    "}\n",
    "precalled_fastq = {\n",
    "    \"mouse-retina-subset1\": path_workdir / \"rawdata/rui-chen-lab/Ms_bulk_subset1.fastq.gz\",\n",
    "    \"mouse-retina-subset2\": path_workdir / \"rawdata/rui-chen-lab/Ms_bulk_subset2.fastq.gz\"\n",
    "}"
   ]
  },
  {
   "cell_type": "markdown",
   "id": "4218bc0b",
   "metadata": {},
   "source": [
    "Basecalled fastq"
   ]
  },
  {
   "cell_type": "code",
   "execution_count": null,
   "id": "a225d01b",
   "metadata": {},
   "outputs": [],
   "source": [
    "data_raw = pd.DataFrame()\n",
    "for name, accuracies in names_accuracies.items():\n",
    "    for accuracy in accuracies:\n",
    "        wildcards = SimpleNamespace(name=name, accuracy=accuracy)\n",
    "        fname = path_fastq(wildcards)\n",
    "        with pysam.FastxFile(fname) as handle:\n",
    "            name_len = [[i.name, len(i.sequence)] for i in handle]\n",
    "        data_tmp = pd.DataFrame(name_len)\n",
    "        data_tmp.columns = [\"read_name\", \"length\"]\n",
    "        data_tmp[\"software\"] = \"raw\"\n",
    "        data_tmp[\"beta_or_backend\"] = \"raw\"\n",
    "        data_tmp[\"name\"] = name\n",
    "        data_tmp[\"accuracy\"] = accuracy\n",
    "        data_raw = pd.concat([data_raw, data_tmp])"
   ]
  },
  {
   "cell_type": "markdown",
   "id": "6cd675cb",
   "metadata": {},
   "source": [
    "Pre-called fastq"
   ]
  },
  {
   "cell_type": "code",
   "execution_count": null,
   "id": "7e480dcf",
   "metadata": {},
   "outputs": [],
   "source": [
    "for name, fname in precalled_fastq.items():\n",
    "    with pysam.FastxFile(fname) as handle:\n",
    "        name_len = [[i.name, len(i.sequence)] for i in handle]\n",
    "    data_tmp = pd.DataFrame(name_len)\n",
    "    data_tmp.columns = [\"read_name\", \"length\"]\n",
    "    data_tmp[\"software\"] = \"raw\"\n",
    "    data_tmp[\"beta_or_backend\"] = \"raw\"\n",
    "    data_tmp[\"name\"] = name\n",
    "    data_tmp[\"accuracy\"] = \"sup\"\n",
    "    data_raw = pd.concat([data_raw, data_tmp])"
   ]
  },
  {
   "cell_type": "code",
   "execution_count": null,
   "id": "e170a132",
   "metadata": {},
   "outputs": [],
   "source": [
    "data_raw.to_csv(\"raw_length.csv\", index=False)"
   ]
  },
  {
   "cell_type": "markdown",
   "id": "e1fde43a",
   "metadata": {},
   "source": [
    "Combine processed and raw read length"
   ]
  },
  {
   "cell_type": "code",
   "execution_count": null,
   "id": "d67bdba0",
   "metadata": {},
   "outputs": [],
   "source": [
    "data = pd.concat([\n",
    "    pd.read_csv(\"processed_length.csv\"),\n",
    "    pd.read_csv(\"raw_length.csv\")\n",
    "])"
   ]
  },
  {
   "cell_type": "code",
   "execution_count": null,
   "id": "4856ff1a",
   "metadata": {},
   "outputs": [],
   "source": [
    "n_samples = 10000\n",
    "beta_or_backend_to_plot = {\n",
    "    \"nanoprep\": betas,\n",
    "    \"pychopper\": backends\n",
    "}\n",
    "names_accuracies = {\n",
    "    \"egr-109-bio1\": [\"sup\", \"hac\", \"fast\"],\n",
    "    \"egr-109-bio2\": [\"sup\", \"hac\", \"fast\"],\n",
    "    \"lch-109-bio1\": [\"sup\", \"hac\", \"fast\"],\n",
    "    \"lch-109-bio2\": [\"sup\", \"hac\", \"fast\"],\n",
    "    \"ptr-109-bio1\": [\"sup\", \"hac\", \"fast\"],\n",
    "    \"ptr-109-bio2\": [\"sup\", \"hac\", \"fast\"],\n",
    "    \"ptr-111-bio1\": [\"sup\", \"hac\", \"fast\"],\n",
    "    \"ont-10x-human\": [\"sup\", \"hac\", \"fast\"],\n",
    "    \"ont-visium-mouse\": [\"sup\", \"hac\", \"fast\"],\n",
    "    \"mouse-retina-subset1\": [\"sup\"],\n",
    "    \"mouse-retina-subset2\": [\"sup\"]\n",
    "}\n",
    "# \n",
    "data_plot = pd.DataFrame()\n",
    "for name, accuracies in names_accuracies.items():\n",
    "    print(name)\n",
    "    for accuracy in accuracies:\n",
    "        print(accuracy, end=\" \")\n",
    "        is_name = data[\"name\"] == name\n",
    "        is_accuracy = data[\"accuracy\"] == accuracy\n",
    "        is_raw = data[\"beta_or_backend\"] == \"raw\"\n",
    "        data_x = data.loc[is_name & is_accuracy & is_raw]\n",
    "        for software in softwares:\n",
    "            if (software == \"pychopper\") & (name in [\"mouse-retina-subset1\", \"mouse-retina-subset2\"]):\n",
    "                continue\n",
    "            print(software, end=\" \")\n",
    "            for beta_or_backend in beta_or_backend_to_plot[software]:\n",
    "                is_beta_or_backend = data[\"beta_or_backend\"] == beta_or_backend\n",
    "                data_y = data.loc[is_name & is_accuracy & is_beta_or_backend]\n",
    "                data_y = data_y.sample(n=round(n_samples / len(beta_or_backend_to_plot[software])), replace=False)\n",
    "                data_xy = pd.merge(data_x, data_y, how=\"right\", on=[\"read_name\"])\n",
    "                data_plot = pd.concat([data_plot, data_xy])\n",
    "                print(beta_or_backend, end=\" \")\n",
    "        print()"
   ]
  },
  {
   "cell_type": "code",
   "execution_count": null,
   "id": "a539a125",
   "metadata": {},
   "outputs": [],
   "source": [
    "data_plot.to_csv(\"downsampled_plot_data.csv\", index=False)"
   ]
  },
  {
   "cell_type": "code",
   "execution_count": null,
   "id": "941f8f79",
   "metadata": {},
   "outputs": [],
   "source": [
    "palette = {}\n",
    "palette[\"phmm\"], palette[\"edlib\"] = sns.color_palette([\"#8a6d53\", \"#ab7849\"], 2)\n",
    "for i, j in zip(betas, sns.color_palette(\"viridis_r\", len(betas))):\n",
    "    palette[i] = j\n",
    "\n",
    "col_wrap = 4\n",
    "col = \"name_x\"\n",
    "col_values = data_plot[col].unique()\n",
    "x=\"length_x\"\n",
    "y=\"length_y\"\n",
    "hue = \"beta_or_backend_y\"\n",
    "style = \"accuracy_x\"\n",
    "markers = {\"sup\": \"o\", \"hac\": \"^\", \"fast\": \"s\"}\n",
    "subplot_aspect = 1\n",
    "subplot_height = 4\n",
    "subplot_width = subplot_height * subplot_aspect\n",
    "fig_rows = math.ceil(len(col_values) / col_wrap)\n",
    "fig_cols = col_wrap\n",
    "\n",
    "# \n",
    "fig, axes = plt.subplots(fig_rows, col_wrap, figsize=(subplot_width * fig_cols, subplot_height * fig_rows))\n",
    "plt.subplots_adjust(wspace=0.1, hspace=0.1)\n",
    "for name, ax in zip(col_values, axes.flatten()):\n",
    "    sns.scatterplot(\n",
    "        data_plot[data_plot[\"name_x\"] == name],\n",
    "        x=x,\n",
    "        y=y,\n",
    "        hue=hue,\n",
    "        palette=palette,\n",
    "        # style=style,\n",
    "        # markers=markers,\n",
    "        edgecolor=\"none\",\n",
    "        legend=True,\n",
    "        s=3,\n",
    "        ax=ax\n",
    "    )\n",
    "    ax.axline((0, 0), slope=1, color=\"red\", linewidth=1, linestyle=\"--\")\n",
    "    ax.set_aspect(\"equal\")\n",
    "    ax.set_xlim(0, 6000)\n",
    "    ax.set_ylim(0, 6000)\n",
    "    ax.set_xlabel(\"\")\n",
    "    ax.set_ylabel(\"\")\n",
    "    ax.set_xticks([0, 2000, 4000, 6000])\n",
    "    ax.set_yticks([0, 2000, 4000, 6000])\n",
    "    ax.set_xticklabels([])\n",
    "    ax.set_yticklabels([])\n",
    "    ax.set_title(name)\n",
    "\n",
    "show_legend = (0, fig_cols - 1)\n",
    "for n_row in range(axes.shape[0]):\n",
    "    for n_col in range(axes.shape[1]):\n",
    "        ax = axes[n_row][n_col]\n",
    "        if (n_row + 1) * (n_col + 1) > len(col_values):\n",
    "            ax.remove()\n",
    "            continue\n",
    "        if (n_row, n_col) == show_legend:\n",
    "            ax.legend(loc=\"center right\", bbox_to_anchor=(1.5, 0.5))\n",
    "        else:\n",
    "            ax.legend_.remove()\n",
    "        if n_row == (axes.shape[0] - 1):\n",
    "            ax.set_xticklabels([\"0\", \"2000\", \"4000\", \"6000\"])\n",
    "        if n_col == 0:\n",
    "            ax.set_yticklabels([\"0\", \"2000\", \"4000\", \"6000\"])\n",
    "\n",
    "fig.savefig(\"output/processed_read_length.png\", dpi=900)"
   ]
  },
  {
   "cell_type": "code",
   "execution_count": null,
   "id": "899a1e42",
   "metadata": {},
   "outputs": [],
   "source": []
  }
 ],
 "metadata": {
  "kernelspec": {
   "display_name": "Python 3 (ipykernel)",
   "language": "python",
   "name": "python3"
  },
  "language_info": {
   "codemirror_mode": {
    "name": "ipython",
    "version": 3
   },
   "file_extension": ".py",
   "mimetype": "text/x-python",
   "name": "python",
   "nbconvert_exporter": "python",
   "pygments_lexer": "ipython3",
   "version": "3.11.2"
  }
 },
 "nbformat": 4,
 "nbformat_minor": 5
}
