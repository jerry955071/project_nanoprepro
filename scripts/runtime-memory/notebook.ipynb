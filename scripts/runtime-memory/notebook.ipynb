{
 "cells": [
  {
   "cell_type": "code",
   "execution_count": 2,
   "id": "1b5419c2",
   "metadata": {},
   "outputs": [],
   "source": [
    "from types import SimpleNamespace\n",
    "import matplotlib.pyplot as plt\n",
    "import seaborn as sns\n",
    "from pathlib import Path\n",
    "import numpy as np\n",
    "import pandas as pd\n",
    "import json, os, pysam, math, subprocess\n",
    "\n",
    "# paths\n",
    "path_workdir = Path(\"/home/b05b01002/HDD/project_nanoprep_re\")\n",
    "path_output = Path(\"./output\")\n",
    "os.makedirs(path_output, exist_ok=True)"
   ]
  },
  {
   "cell_type": "markdown",
   "id": "8e89059e",
   "metadata": {},
   "source": [
    "Find mprof.txt"
   ]
  },
  {
   "cell_type": "code",
   "execution_count": 4,
   "id": "8085704d",
   "metadata": {},
   "outputs": [],
   "source": [
    "results = subprocess.run(\n",
    "    f\"find {path_workdir}/outputs -name mprof.txt\".split(\" \"),\n",
    "    capture_output=True, text=True, check=True\n",
    ").stdout\n"
   ]
  },
  {
   "cell_type": "code",
   "execution_count": 15,
   "id": "5f4214ec",
   "metadata": {},
   "outputs": [],
   "source": [
    "path_mprof = results.split(\"\\n\")\n",
    "for fname in path_mprof:\n",
    "    data = pd.read_csv(fname, sep=\" \")\n",
    "    data = data.loc[data[\"CMDLINE\"] == \"MEM\"]\n",
    "    data = data.dropna(axis=1)\n",
    "    break"
   ]
  },
  {
   "cell_type": "code",
   "execution_count": 16,
   "id": "9cd08829",
   "metadata": {},
   "outputs": [
    {
     "data": {
      "text/html": [
       "<div>\n",
       "<style scoped>\n",
       "    .dataframe tbody tr th:only-of-type {\n",
       "        vertical-align: middle;\n",
       "    }\n",
       "\n",
       "    .dataframe tbody tr th {\n",
       "        vertical-align: top;\n",
       "    }\n",
       "\n",
       "    .dataframe thead th {\n",
       "        text-align: right;\n",
       "    }\n",
       "</style>\n",
       "<table border=\"1\" class=\"dataframe\">\n",
       "  <thead>\n",
       "    <tr style=\"text-align: right;\">\n",
       "      <th></th>\n",
       "      <th>CMDLINE</th>\n",
       "      <th>nanoprep</th>\n",
       "      <th>--beta</th>\n",
       "    </tr>\n",
       "  </thead>\n",
       "  <tbody>\n",
       "    <tr>\n",
       "      <th>0</th>\n",
       "      <td>MEM</td>\n",
       "      <td>3.894531</td>\n",
       "      <td>1.756988e+09</td>\n",
       "    </tr>\n",
       "    <tr>\n",
       "      <th>1</th>\n",
       "      <td>MEM</td>\n",
       "      <td>19.566406</td>\n",
       "      <td>1.756988e+09</td>\n",
       "    </tr>\n",
       "    <tr>\n",
       "      <th>2</th>\n",
       "      <td>MEM</td>\n",
       "      <td>27.101562</td>\n",
       "      <td>1.756988e+09</td>\n",
       "    </tr>\n",
       "    <tr>\n",
       "      <th>3</th>\n",
       "      <td>MEM</td>\n",
       "      <td>48.113281</td>\n",
       "      <td>1.756988e+09</td>\n",
       "    </tr>\n",
       "    <tr>\n",
       "      <th>4</th>\n",
       "      <td>MEM</td>\n",
       "      <td>59.062500</td>\n",
       "      <td>1.756988e+09</td>\n",
       "    </tr>\n",
       "    <tr>\n",
       "      <th>...</th>\n",
       "      <td>...</td>\n",
       "      <td>...</td>\n",
       "      <td>...</td>\n",
       "    </tr>\n",
       "    <tr>\n",
       "      <th>40488</th>\n",
       "      <td>MEM</td>\n",
       "      <td>1593.972656</td>\n",
       "      <td>1.756990e+09</td>\n",
       "    </tr>\n",
       "    <tr>\n",
       "      <th>40490</th>\n",
       "      <td>MEM</td>\n",
       "      <td>1593.972656</td>\n",
       "      <td>1.756990e+09</td>\n",
       "    </tr>\n",
       "    <tr>\n",
       "      <th>40492</th>\n",
       "      <td>MEM</td>\n",
       "      <td>809.000000</td>\n",
       "      <td>1.756990e+09</td>\n",
       "    </tr>\n",
       "    <tr>\n",
       "      <th>40493</th>\n",
       "      <td>MEM</td>\n",
       "      <td>808.500000</td>\n",
       "      <td>1.756990e+09</td>\n",
       "    </tr>\n",
       "    <tr>\n",
       "      <th>40494</th>\n",
       "      <td>MEM</td>\n",
       "      <td>0.000000</td>\n",
       "      <td>1.756990e+09</td>\n",
       "    </tr>\n",
       "  </tbody>\n",
       "</table>\n",
       "<p>17820 rows × 3 columns</p>\n",
       "</div>"
      ],
      "text/plain": [
       "      CMDLINE     nanoprep        --beta\n",
       "0         MEM     3.894531  1.756988e+09\n",
       "1         MEM    19.566406  1.756988e+09\n",
       "2         MEM    27.101562  1.756988e+09\n",
       "3         MEM    48.113281  1.756988e+09\n",
       "4         MEM    59.062500  1.756988e+09\n",
       "...       ...          ...           ...\n",
       "40488     MEM  1593.972656  1.756990e+09\n",
       "40490     MEM  1593.972656  1.756990e+09\n",
       "40492     MEM   809.000000  1.756990e+09\n",
       "40493     MEM   808.500000  1.756990e+09\n",
       "40494     MEM     0.000000  1.756990e+09\n",
       "\n",
       "[17820 rows x 3 columns]"
      ]
     },
     "execution_count": 16,
     "metadata": {},
     "output_type": "execute_result"
    }
   ],
   "source": [
    "data"
   ]
  }
 ],
 "metadata": {
  "kernelspec": {
   "display_name": "Python 3 (ipykernel)",
   "language": "python",
   "name": "python3"
  },
  "language_info": {
   "codemirror_mode": {
    "name": "ipython",
    "version": 3
   },
   "file_extension": ".py",
   "mimetype": "text/x-python",
   "name": "python",
   "nbconvert_exporter": "python",
   "pygments_lexer": "ipython3",
   "version": "3.11.2"
  }
 },
 "nbformat": 4,
 "nbformat_minor": 5
}
